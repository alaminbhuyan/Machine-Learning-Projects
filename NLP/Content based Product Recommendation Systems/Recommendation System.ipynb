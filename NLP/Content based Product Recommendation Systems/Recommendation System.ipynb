{
 "cells": [
  {
   "cell_type": "code",
   "execution_count": 1,
   "id": "42d872ec-0e79-4a4f-9164-9ed72e2b7bcd",
   "metadata": {},
   "outputs": [],
   "source": [
    "import numpy as np\n",
    "import pandas as pd\n",
    "import re\n",
    "import string\n",
    "\n",
    "import nltk\n",
    "from nltk import sent_tokenize, word_tokenize\n",
    "from nltk.corpus import stopwords\n",
    "from nltk.stem import PorterStemmer, WordNetLemmatizer\n",
    "from sklearn.feature_extraction.text import CountVectorizer, TfidfVectorizer\n",
    "from sklearn.metrics.pairwise import cosine_similarity"
   ]
  },
  {
   "cell_type": "code",
   "execution_count": 2,
   "id": "c6dfb380-0beb-4d4f-8e66-e98afce6c8e6",
   "metadata": {},
   "outputs": [
    {
     "data": {
      "text/html": [
       "<div>\n",
       "<style scoped>\n",
       "    .dataframe tbody tr th:only-of-type {\n",
       "        vertical-align: middle;\n",
       "    }\n",
       "\n",
       "    .dataframe tbody tr th {\n",
       "        vertical-align: top;\n",
       "    }\n",
       "\n",
       "    .dataframe thead th {\n",
       "        text-align: right;\n",
       "    }\n",
       "</style>\n",
       "<table border=\"1\" class=\"dataframe\">\n",
       "  <thead>\n",
       "    <tr style=\"text-align: right;\">\n",
       "      <th></th>\n",
       "      <th>id</th>\n",
       "      <th>name</th>\n",
       "      <th>description</th>\n",
       "      <th>brand</th>\n",
       "      <th>Model</th>\n",
       "    </tr>\n",
       "  </thead>\n",
       "  <tbody>\n",
       "    <tr>\n",
       "      <th>0</th>\n",
       "      <td>1</td>\n",
       "      <td>HUAWEI</td>\n",
       "      <td>Screen Size\\t:\\t7.12\" (1080 x 2244) Camera\\t:\\...</td>\n",
       "      <td>HUAWEI</td>\n",
       "      <td>HUAWEI ENJOY MAX</td>\n",
       "    </tr>\n",
       "    <tr>\n",
       "      <th>1</th>\n",
       "      <td>2</td>\n",
       "      <td>Duranta</td>\n",
       "      <td>This bicycle has a strong steel frame. Its bra...</td>\n",
       "      <td>Duranta</td>\n",
       "      <td>Duranta Super Sports Bicycle</td>\n",
       "    </tr>\n",
       "    <tr>\n",
       "      <th>2</th>\n",
       "      <td>19</td>\n",
       "      <td>Cadillac</td>\n",
       "      <td>Basic: 4 Years / 50000 Miles, Corrosion: 4 Yea...</td>\n",
       "      <td>Cadillac</td>\n",
       "      <td>Cadillac Escalade ESV</td>\n",
       "    </tr>\n",
       "    <tr>\n",
       "      <th>3</th>\n",
       "      <td>20</td>\n",
       "      <td>Aston Martin</td>\n",
       "      <td>3 Years / Unlimited Miles Basic, 10 Years / Un...</td>\n",
       "      <td>Aston Martin</td>\n",
       "      <td>Aston Martin DB11 V8</td>\n",
       "    </tr>\n",
       "    <tr>\n",
       "      <th>4</th>\n",
       "      <td>21</td>\n",
       "      <td>Nike</td>\n",
       "      <td>you can buy the Gym Bag Traveling Bag NIKE Onl...</td>\n",
       "      <td>Nike</td>\n",
       "      <td>Gym bag</td>\n",
       "    </tr>\n",
       "  </tbody>\n",
       "</table>\n",
       "</div>"
      ],
      "text/plain": [
       "   id          name                                        description  \\\n",
       "0   1        HUAWEI  Screen Size\\t:\\t7.12\" (1080 x 2244) Camera\\t:\\...   \n",
       "1   2       Duranta  This bicycle has a strong steel frame. Its bra...   \n",
       "2  19      Cadillac  Basic: 4 Years / 50000 Miles, Corrosion: 4 Yea...   \n",
       "3  20  Aston Martin  3 Years / Unlimited Miles Basic, 10 Years / Un...   \n",
       "4  21          Nike  you can buy the Gym Bag Traveling Bag NIKE Onl...   \n",
       "\n",
       "          brand                         Model  \n",
       "0        HUAWEI              HUAWEI ENJOY MAX  \n",
       "1       Duranta  Duranta Super Sports Bicycle  \n",
       "2      Cadillac         Cadillac Escalade ESV  \n",
       "3  Aston Martin          Aston Martin DB11 V8  \n",
       "4          Nike                       Gym bag  "
      ]
     },
     "execution_count": 2,
     "metadata": {},
     "output_type": "execute_result"
    }
   ],
   "source": [
    "df = pd.read_csv(\"dataset/newdf3.csv\")\n",
    "\n",
    "df.head()"
   ]
  },
  {
   "cell_type": "markdown",
   "id": "0266c0c8-a7a5-4778-a795-d3f963f0ff8a",
   "metadata": {},
   "source": [
    "## EDA"
   ]
  },
  {
   "cell_type": "code",
   "execution_count": 3,
   "id": "be3ebff2-b620-4e95-b796-6f0a83251288",
   "metadata": {},
   "outputs": [
    {
     "data": {
      "text/plain": [
       "id             0\n",
       "name           0\n",
       "description    0\n",
       "brand          0\n",
       "Model          0\n",
       "dtype: int64"
      ]
     },
     "execution_count": 3,
     "metadata": {},
     "output_type": "execute_result"
    }
   ],
   "source": [
    "# Check null values\n",
    "\n",
    "df.isnull().sum()"
   ]
  },
  {
   "cell_type": "code",
   "execution_count": 4,
   "id": "3c3e1448-7aa8-4dfe-86ed-e9ca58f54cab",
   "metadata": {},
   "outputs": [
    {
     "data": {
      "text/plain": [
       "0"
      ]
     },
     "execution_count": 4,
     "metadata": {},
     "output_type": "execute_result"
    }
   ],
   "source": [
    "# Check duplicate value\n",
    "\n",
    "df.duplicated().sum()"
   ]
  },
  {
   "cell_type": "code",
   "execution_count": 5,
   "id": "d03d11ac-617c-47bb-8177-3b27c55c2db0",
   "metadata": {},
   "outputs": [
    {
     "data": {
      "text/plain": [
       "(153, 5)"
      ]
     },
     "execution_count": 5,
     "metadata": {},
     "output_type": "execute_result"
    }
   ],
   "source": [
    "# Shape\n",
    "df.shape"
   ]
  },
  {
   "cell_type": "code",
   "execution_count": 6,
   "id": "966dccdf-2fb8-4205-9e23-b1b5f99e4520",
   "metadata": {},
   "outputs": [
    {
     "name": "stdout",
     "output_type": "stream",
     "text": [
      "<class 'pandas.core.frame.DataFrame'>\n",
      "RangeIndex: 153 entries, 0 to 152\n",
      "Data columns (total 5 columns):\n",
      " #   Column       Non-Null Count  Dtype \n",
      "---  ------       --------------  ----- \n",
      " 0   id           153 non-null    int64 \n",
      " 1   name         153 non-null    object\n",
      " 2   description  153 non-null    object\n",
      " 3   brand        153 non-null    object\n",
      " 4   Model        153 non-null    object\n",
      "dtypes: int64(1), object(4)\n",
      "memory usage: 6.1+ KB\n"
     ]
    }
   ],
   "source": [
    "df.info()"
   ]
  },
  {
   "cell_type": "code",
   "execution_count": 7,
   "id": "1551e6fe-e545-47ec-920a-397e9a8fc77c",
   "metadata": {},
   "outputs": [
    {
     "data": {
      "text/plain": [
       "str"
      ]
     },
     "execution_count": 7,
     "metadata": {},
     "output_type": "execute_result"
    }
   ],
   "source": [
    "type(df.loc[0, 'description'])"
   ]
  },
  {
   "cell_type": "code",
   "execution_count": 8,
   "id": "cadfbb69-4a2d-4f6c-b489-2d36ecce8ff9",
   "metadata": {},
   "outputs": [],
   "source": [
    "# Check the unique values in name column\n",
    "\n",
    "unique_value ,num_count = np.unique(ar=df.name, return_counts=True)"
   ]
  },
  {
   "cell_type": "code",
   "execution_count": 9,
   "id": "5685e882-fa20-4849-afe1-21329293ed23",
   "metadata": {},
   "outputs": [
    {
     "data": {
      "text/plain": [
       "151"
      ]
     },
     "execution_count": 9,
     "metadata": {},
     "output_type": "execute_result"
    }
   ],
   "source": [
    "len(unique_value)"
   ]
  },
  {
   "cell_type": "code",
   "execution_count": 10,
   "id": "3d1abd10-30ba-42e1-8441-2120745d0b02",
   "metadata": {},
   "outputs": [
    {
     "data": {
      "text/plain": [
       "array([1, 1, 1, 1, 1, 1, 1, 1, 1, 1, 1, 1, 1, 1, 1, 1, 1, 1, 1, 1, 1, 1,\n",
       "       1, 1, 1, 1, 1, 1, 1, 1, 1, 1, 1, 1, 1, 1, 1, 1, 1, 1, 1, 1, 1, 1,\n",
       "       1, 1, 1, 1, 1, 1, 1, 1, 1, 1, 1, 1, 1, 1, 1, 1, 1, 1, 1, 1, 1, 2,\n",
       "       1, 1, 1, 1, 1, 1, 1, 1, 1, 1, 1, 1, 1, 1, 1, 1, 1, 1, 1, 1, 1, 1,\n",
       "       1, 1, 1, 2, 1, 1, 1, 1, 1, 1, 1, 1, 1, 1, 1, 1, 1, 1, 1, 1, 1, 1,\n",
       "       1, 1, 1, 1, 1, 1, 1, 1, 1, 1, 1, 1, 1, 1, 1, 1, 1, 1, 1, 1, 1, 1,\n",
       "       1, 1, 1, 1, 1, 1, 1, 1, 1, 1, 1, 1, 1, 1, 1, 1, 1, 1, 1],\n",
       "      dtype=int64)"
      ]
     },
     "execution_count": 10,
     "metadata": {},
     "output_type": "execute_result"
    }
   ],
   "source": [
    "num_count"
   ]
  },
  {
   "cell_type": "code",
   "execution_count": 11,
   "id": "8abce99e-241a-4d87-99b4-4962532101d5",
   "metadata": {},
   "outputs": [
    {
     "data": {
      "text/plain": [
       "ORAS Genuine Leather Wallet    2\n",
       "Ladies Backpack                2\n",
       "HUAWEI                         1\n",
       "HANDWOVEN SILK SAREES          1\n",
       "Ladies Purse                   1\n",
       "                              ..\n",
       "Haylou Smart Watch             1\n",
       "Xiaomi Mi Band 6 CN            1\n",
       "CURREN 8356 Watch              1\n",
       "Curren                         1\n",
       "Apple Magic Mouse              1\n",
       "Name: name, Length: 151, dtype: int64"
      ]
     },
     "execution_count": 11,
     "metadata": {},
     "output_type": "execute_result"
    }
   ],
   "source": [
    "df.name.value_counts()"
   ]
  },
  {
   "cell_type": "code",
   "execution_count": 12,
   "id": "3c6656c0-745a-4f6f-9886-3b383c1a49e1",
   "metadata": {},
   "outputs": [
    {
     "name": "stdout",
     "output_type": "stream",
     "text": [
      "Product Name: 2pcs-bangles-100-101 -----> Total counts: 1\n",
      "Product Name: AFGHANI OXIDISED SILVER JEWELLERY -----> Total counts: 1\n",
      "Product Name: AVITA Essential 14 laptop -----> Total counts: 1\n",
      "Product Name: All Swivel Chair -----> Total counts: 1\n",
      "Product Name: Apple Magic Mouse -----> Total counts: 1\n",
      "Product Name: Apple iMac PC -----> Total counts: 1\n",
      "Product Name: Aston Martin -----> Total counts: 1\n",
      "Product Name: Asus PC -----> Total counts: 1\n",
      "Product Name: BMW -----> Total counts: 1\n",
      "Product Name: Baby Bouncer For Playing Sleeping & Relxation -----> Total counts: 1\n",
      "Product Name: Baby Kitchen Set -----> Total counts: 1\n",
      "Product Name: Baby gym rack and game pad combo -----> Total counts: 1\n",
      "Product Name: Black Panther -----> Total counts: 1\n",
      "Product Name: Blender VIS-SBL-018 Rapid Power -----> Total counts: 1\n",
      "Product Name: Brislet -----> Total counts: 1\n",
      "Product Name: COTTON WOVEN SAREE -----> Total counts: 1\n",
      "Product Name: CPU Liquid Cooler -----> Total counts: 1\n",
      "Product Name: CURREN 8356 Watch -----> Total counts: 1\n",
      "Product Name: Cadillac -----> Total counts: 1\n",
      "Product Name: Captain Curious -----> Total counts: 1\n",
      "Product Name: Casio keyboard SA 46 -----> Total counts: 1\n",
      "Product Name: Children's Study Table -----> Total counts: 1\n",
      "Product Name: Chuwi HeroBook  Laptop -----> Total counts: 1\n",
      "Product Name: Crocodile Texture Genuine Leather -----> Total counts: 1\n",
      "Product Name: Curren -----> Total counts: 1\n",
      "Product Name: Datsun -----> Total counts: 1\n",
      "Product Name: Dell Inspiron 15 3515 Laptop -----> Total counts: 1\n",
      "Product Name: Dell PC -----> Total counts: 1\n",
      "Product Name: Diamond Storm  Pro RGB Gaming Casing -----> Total counts: 1\n",
      "Product Name: Digital Voice Recorder -----> Total counts: 1\n",
      "Product Name: Document Scanner -----> Total counts: 1\n",
      "Product Name: Dual Band Gigabit 7 Antennas Router -----> Total counts: 1\n",
      "Product Name: Duranta -----> Total counts: 1\n",
      "Product Name: E. Kettle 1.0L -----> Total counts: 1\n",
      "Product Name: EMBROIDERED NET SEMI STITCHED BRIDAL LEHENGA -----> Total counts: 1\n",
      "Product Name: EMBROIDERED-KURTIS -----> Total counts: 1\n",
      "Product Name: EMBROIDERY LEHENGA -----> Total counts: 1\n",
      "Product Name: Electronic Dry Iron -----> Total counts: 1\n",
      "Product Name: Electronic Watch -----> Total counts: 1\n",
      "Product Name: Express -----> Total counts: 1\n",
      "Product Name: FLORAL WEDDING LEHENGA -----> Total counts: 1\n",
      "Product Name: Farlin Baby Magic Ball House -----> Total counts: 1\n",
      "Product Name: Fernedes Atlas 5x-2008 Bass Guitar -----> Total counts: 1\n",
      "Product Name: Ferrari -----> Total counts: 1\n",
      "Product Name: Forever Bicycle -----> Total counts: 1\n",
      "Product Name: GFC Glamour Ceiling Fan -----> Total counts: 1\n",
      "Product Name: GFC Monet Ceiling Fan -----> Total counts: 1\n",
      "Product Name: GOLD CHOKERS -----> Total counts: 1\n",
      "Product Name: Genuine Leather Wallet -----> Total counts: 1\n",
      "Product Name: Gigabit Smart Managed Switch -----> Total counts: 1\n",
      "Product Name: Guitar Stand Wall Mount Hanger Hook -----> Total counts: 1\n",
      "Product Name: HANDWOVEN SILK SAREES -----> Total counts: 1\n",
      "Product Name: HATIL Swivel Chair -----> Total counts: 1\n",
      "Product Name: HP 15s laptop -----> Total counts: 1\n",
      "Product Name: HP PC -----> Total counts: 1\n",
      "Product Name: HUAWEI -----> Total counts: 1\n",
      "Product Name: Haier -----> Total counts: 1\n",
      "Product Name: Haylou Smart Watch -----> Total counts: 1\n",
      "Product Name: Hijab -----> Total counts: 1\n",
      "Product Name: Hyundai -----> Total counts: 1\n",
      "Product Name: Intel Core i3-2120 2nd Gen Processor -----> Total counts: 1\n",
      "Product Name: Jeep Genuine Leather Wallet -----> Total counts: 1\n",
      "Product Name: Key Wallet -----> Total counts: 1\n",
      "Product Name: LED Light -----> Total counts: 1\n",
      "Product Name: LG 32LK510B 32\" HD LED Television -----> Total counts: 1\n",
      "Product Name: Ladies Backpack -----> Total counts: 2\n",
      "Product Name: Ladies Bracelet Type Watch -----> Total counts: 1\n",
      "Product Name: Ladies Purse -----> Total counts: 1\n",
      "Product Name: Lakmé -----> Total counts: 1\n",
      "Product Name: Lakmé 9 to 5 -----> Total counts: 1\n",
      "Product Name: Laptop Pouch bag -----> Total counts: 1\n",
      "Product Name: Lenovo IdeaPad Slim 3i Laptop -----> Total counts: 1\n",
      "Product Name: MAITHILI SILK SAREE -----> Total counts: 1\n",
      "Product Name: Magnet Ladies Watch -----> Total counts: 1\n",
      "Product Name: Mango MGN1 32\" Borderless HD Smart Android LED Television -----> Total counts: 1\n",
      "Product Name: Melody 3.5 Octave Stick Harmoniam -----> Total counts: 1\n",
      "Product Name: Melody Tablya Baya -----> Total counts: 1\n",
      "Product Name: Michael Kors -----> Total counts: 1\n",
      "Product Name: Microsoft Windows 10 Professional  DVD -----> Total counts: 1\n",
      "Product Name: Microwave Oven -----> Total counts: 1\n",
      "Product Name: Mojar Periscope -----> Total counts: 1\n",
      "Product Name: Motor Bike Rocker -----> Total counts: 1\n",
      "Product Name: Motorola Moto -----> Total counts: 1\n",
      "Product Name: Multi-Function Business Travel Wallet -----> Total counts: 1\n",
      "Product Name: Multifunction Mono Laser Photocopier -----> Total counts: 1\n",
      "Product Name: Multimedia Speaker -----> Total counts: 1\n",
      "Product Name: New Mini  Fan -----> Total counts: 1\n",
      "Product Name: Nike -----> Total counts: 1\n",
      "Product Name: Nokia -----> Total counts: 1\n",
      "Product Name: Non Modular Power Supply -----> Total counts: 1\n",
      "Product Name: ORAS Genuine Leather Key Wallet -----> Total counts: 1\n",
      "Product Name: ORAS Genuine Leather Wallet -----> Total counts: 2\n",
      "Product Name: OnePlus -----> Total counts: 1\n",
      "Product Name: Onnorokom Science Box: Mystery Of Chemistry -----> Total counts: 1\n",
      "Product Name: Oppo -----> Total counts: 1\n",
      "Product Name: PRINTED RAYON KURTA-SETS -----> Total counts: 1\n",
      "Product Name: Playtime King Slider -----> Total counts: 1\n",
      "Product Name: RA38N ORAS Genuine Leather Wallet for Men -----> Total counts: 1\n",
      "Product Name: Realme -----> Total counts: 1\n",
      "Product Name: Redmi -----> Total counts: 1\n",
      "Product Name: Rice Cooker RC-1.8 -----> Total counts: 1\n",
      "Product Name: Ride On Push Car -----> Total counts: 1\n",
      "Product Name: SEMI STITCHED PARTY WEAR LEHENGA -----> Total counts: 1\n",
      "Product Name: SILK READYMADE LEHENGA -----> Total counts: 1\n",
      "Product Name: STAR 2000VA IPS -----> Total counts: 1\n",
      "Product Name: Samsung -----> Total counts: 1\n",
      "Product Name: Samsung 32N4010 -----> Total counts: 1\n",
      "Product Name: Scholar Table With Chair -----> Total counts: 1\n",
      "Product Name: Semi Fitted Panjabi -----> Total counts: 1\n",
      "Product Name: Sennheiser EW135P-G4 wireless Microphone -----> Total counts: 1\n",
      "Product Name: Single Function Mono Laser Printer -----> Total counts: 1\n",
      "Product Name: Skmei watch -----> Total counts: 1\n",
      "Product Name: Smart Kit Focus Challenge -----> Total counts: 1\n",
      "Product Name: Smart Managed Switch -----> Total counts: 1\n",
      "Product Name: Sony Bravia  TV -----> Total counts: 1\n",
      "Product Name: Spot light -----> Total counts: 1\n",
      "Product Name: Standard Backup Online UPS -----> Total counts: 1\n",
      "Product Name: Starex 32” GS -----> Total counts: 1\n",
      "Product Name: Super 16 -----> Total counts: 1\n",
      "Product Name: Swivel Chair -----> Total counts: 1\n",
      "Product Name: TRADITIONAL DESIGNER SILK SAREE -----> Total counts: 1\n",
      "Product Name: Targus Intellect Laptop Backpack -----> Total counts: 1\n",
      "Product Name: Tesla -----> Total counts: 1\n",
      "Product Name: Torch light -----> Total counts: 1\n",
      "Product Name: Toyota -----> Total counts: 1\n",
      "Product Name: VSN Electric Geyser -----> Total counts: 1\n",
      "Product Name: VSN GD Refrigerator -----> Total counts: 1\n",
      "Product Name: Vision Automatic Washing Machine -----> Total counts: 1\n",
      "Product Name: Vivo -----> Total counts: 1\n",
      "Product Name: WIFI Doll Camera -----> Total counts: 1\n",
      "Product Name: WLED-RB3WB22 light -----> Total counts: 1\n",
      "Product Name: Walton Light -----> Total counts: 1\n",
      "Product Name: Wireless Earbuds -----> Total counts: 1\n",
      "Product Name: X corolla -----> Total counts: 1\n",
      "Product Name: Xiaomi Mi Band 6 CN -----> Total counts: 1\n",
      "Product Name: Xiaomi TV -----> Total counts: 1\n",
      "Product Name: ZOOM HD DIGITAL CAMERA -----> Total counts: 1\n",
      "Product Name: children dress -----> Total counts: 1\n",
      "Product Name: earring -----> Total counts: 1\n",
      "Product Name: gaming headphone -----> Total counts: 1\n",
      "Product Name: iPhone -----> Total counts: 1\n",
      "Product Name: kanthohar -----> Total counts: 1\n",
      "Product Name: kick scooter kids -----> Total counts: 1\n",
      "Product Name: necklace -----> Total counts: 1\n",
      "Product Name: nosepin -----> Total counts: 1\n",
      "Product Name: ring -----> Total counts: 1\n",
      "Product Name: science box fifth grade -----> Total counts: 1\n",
      "Product Name: shitahar -----> Total counts: 1\n",
      "Product Name: silaring -----> Total counts: 1\n",
      "Product Name: tikli -----> Total counts: 1\n",
      "Product Name: walton Desktop PC -----> Total counts: 1\n"
     ]
    }
   ],
   "source": [
    "for i, j in zip(unique_value, num_count):\n",
    "    print(f'Product Name: {i} -----> Total counts: {j}')"
   ]
  },
  {
   "cell_type": "markdown",
   "id": "83b4f006-33d9-4d39-8bf0-60db68a311fc",
   "metadata": {},
   "source": [
    "## Text preprocessing"
   ]
  },
  {
   "cell_type": "code",
   "execution_count": 13,
   "id": "bdf07bb3-325e-497e-8da8-1e46bbc4ae1c",
   "metadata": {},
   "outputs": [
    {
     "data": {
      "text/html": [
       "<div>\n",
       "<style scoped>\n",
       "    .dataframe tbody tr th:only-of-type {\n",
       "        vertical-align: middle;\n",
       "    }\n",
       "\n",
       "    .dataframe tbody tr th {\n",
       "        vertical-align: top;\n",
       "    }\n",
       "\n",
       "    .dataframe thead th {\n",
       "        text-align: right;\n",
       "    }\n",
       "</style>\n",
       "<table border=\"1\" class=\"dataframe\">\n",
       "  <thead>\n",
       "    <tr style=\"text-align: right;\">\n",
       "      <th></th>\n",
       "      <th>id</th>\n",
       "      <th>name</th>\n",
       "      <th>description</th>\n",
       "      <th>brand</th>\n",
       "      <th>Model</th>\n",
       "    </tr>\n",
       "  </thead>\n",
       "  <tbody>\n",
       "    <tr>\n",
       "      <th>0</th>\n",
       "      <td>1</td>\n",
       "      <td>HUAWEI</td>\n",
       "      <td>Screen Size\\t:\\t7.12\" (1080 x 2244) Camera\\t:\\...</td>\n",
       "      <td>HUAWEI</td>\n",
       "      <td>HUAWEI ENJOY MAX</td>\n",
       "    </tr>\n",
       "    <tr>\n",
       "      <th>1</th>\n",
       "      <td>2</td>\n",
       "      <td>Duranta</td>\n",
       "      <td>This bicycle has a strong steel frame. Its bra...</td>\n",
       "      <td>Duranta</td>\n",
       "      <td>Duranta Super Sports Bicycle</td>\n",
       "    </tr>\n",
       "    <tr>\n",
       "      <th>2</th>\n",
       "      <td>19</td>\n",
       "      <td>Cadillac</td>\n",
       "      <td>Basic: 4 Years / 50000 Miles, Corrosion: 4 Yea...</td>\n",
       "      <td>Cadillac</td>\n",
       "      <td>Cadillac Escalade ESV</td>\n",
       "    </tr>\n",
       "    <tr>\n",
       "      <th>3</th>\n",
       "      <td>20</td>\n",
       "      <td>Aston Martin</td>\n",
       "      <td>3 Years / Unlimited Miles Basic, 10 Years / Un...</td>\n",
       "      <td>Aston Martin</td>\n",
       "      <td>Aston Martin DB11 V8</td>\n",
       "    </tr>\n",
       "    <tr>\n",
       "      <th>4</th>\n",
       "      <td>21</td>\n",
       "      <td>Nike</td>\n",
       "      <td>you can buy the Gym Bag Traveling Bag NIKE Onl...</td>\n",
       "      <td>Nike</td>\n",
       "      <td>Gym bag</td>\n",
       "    </tr>\n",
       "  </tbody>\n",
       "</table>\n",
       "</div>"
      ],
      "text/plain": [
       "   id          name                                        description  \\\n",
       "0   1        HUAWEI  Screen Size\\t:\\t7.12\" (1080 x 2244) Camera\\t:\\...   \n",
       "1   2       Duranta  This bicycle has a strong steel frame. Its bra...   \n",
       "2  19      Cadillac  Basic: 4 Years / 50000 Miles, Corrosion: 4 Yea...   \n",
       "3  20  Aston Martin  3 Years / Unlimited Miles Basic, 10 Years / Un...   \n",
       "4  21          Nike  you can buy the Gym Bag Traveling Bag NIKE Onl...   \n",
       "\n",
       "          brand                         Model  \n",
       "0        HUAWEI              HUAWEI ENJOY MAX  \n",
       "1       Duranta  Duranta Super Sports Bicycle  \n",
       "2      Cadillac         Cadillac Escalade ESV  \n",
       "3  Aston Martin          Aston Martin DB11 V8  \n",
       "4          Nike                       Gym bag  "
      ]
     },
     "execution_count": 13,
     "metadata": {},
     "output_type": "execute_result"
    }
   ],
   "source": [
    "df.head(5)"
   ]
  },
  {
   "cell_type": "code",
   "execution_count": 14,
   "id": "18b7a917-1982-4bc9-aaea-875100c89bb6",
   "metadata": {},
   "outputs": [
    {
     "data": {
      "text/plain": [
       "'Screen Size\\t:\\t7.12\" (1080 x 2244) Camera\\t:\\t16 + 2 | 8 MP RAM\\t:\\t4GB Battery\\t:\\t5000 mAh Operating system\\t:\\tAndroid Soc\\t:\\tQualcomm SDM636 Snapdragon 636 Processor\\t:\\tOcta'"
      ]
     },
     "execution_count": 14,
     "metadata": {},
     "output_type": "execute_result"
    }
   ],
   "source": [
    "df.loc[0, 'description']"
   ]
  },
  {
   "cell_type": "code",
   "execution_count": 15,
   "id": "28a0790c-6933-4d65-8413-f857a9cc8f5a",
   "metadata": {},
   "outputs": [],
   "source": [
    "# Make lower case the text\n",
    "\n",
    "def makeLowerCase(text):\n",
    "    return text.lower()"
   ]
  },
  {
   "cell_type": "code",
   "execution_count": 16,
   "id": "1e384c47-0806-4548-80e1-4e4d297b730d",
   "metadata": {},
   "outputs": [],
   "source": [
    "df['name'] = df['name'].apply(func=makeLowerCase)\n",
    "df['description'] = df['description'].apply(func=makeLowerCase)\n",
    "df['brand'] = df['brand'].apply(func=makeLowerCase)\n",
    "df['Model'] = df['Model'].apply(func=makeLowerCase)"
   ]
  },
  {
   "cell_type": "code",
   "execution_count": 17,
   "id": "b647f3a0-059a-4a58-86a8-22fe54e3ef2e",
   "metadata": {},
   "outputs": [
    {
     "data": {
      "text/html": [
       "<div>\n",
       "<style scoped>\n",
       "    .dataframe tbody tr th:only-of-type {\n",
       "        vertical-align: middle;\n",
       "    }\n",
       "\n",
       "    .dataframe tbody tr th {\n",
       "        vertical-align: top;\n",
       "    }\n",
       "\n",
       "    .dataframe thead th {\n",
       "        text-align: right;\n",
       "    }\n",
       "</style>\n",
       "<table border=\"1\" class=\"dataframe\">\n",
       "  <thead>\n",
       "    <tr style=\"text-align: right;\">\n",
       "      <th></th>\n",
       "      <th>id</th>\n",
       "      <th>name</th>\n",
       "      <th>description</th>\n",
       "      <th>brand</th>\n",
       "      <th>Model</th>\n",
       "    </tr>\n",
       "  </thead>\n",
       "  <tbody>\n",
       "    <tr>\n",
       "      <th>0</th>\n",
       "      <td>1</td>\n",
       "      <td>huawei</td>\n",
       "      <td>screen size\\t:\\t7.12\" (1080 x 2244) camera\\t:\\...</td>\n",
       "      <td>huawei</td>\n",
       "      <td>huawei enjoy max</td>\n",
       "    </tr>\n",
       "    <tr>\n",
       "      <th>1</th>\n",
       "      <td>2</td>\n",
       "      <td>duranta</td>\n",
       "      <td>this bicycle has a strong steel frame. its bra...</td>\n",
       "      <td>duranta</td>\n",
       "      <td>duranta super sports bicycle</td>\n",
       "    </tr>\n",
       "    <tr>\n",
       "      <th>2</th>\n",
       "      <td>19</td>\n",
       "      <td>cadillac</td>\n",
       "      <td>basic: 4 years / 50000 miles, corrosion: 4 yea...</td>\n",
       "      <td>cadillac</td>\n",
       "      <td>cadillac escalade esv</td>\n",
       "    </tr>\n",
       "    <tr>\n",
       "      <th>3</th>\n",
       "      <td>20</td>\n",
       "      <td>aston martin</td>\n",
       "      <td>3 years / unlimited miles basic, 10 years / un...</td>\n",
       "      <td>aston martin</td>\n",
       "      <td>aston martin db11 v8</td>\n",
       "    </tr>\n",
       "    <tr>\n",
       "      <th>4</th>\n",
       "      <td>21</td>\n",
       "      <td>nike</td>\n",
       "      <td>you can buy the gym bag traveling bag nike onl...</td>\n",
       "      <td>nike</td>\n",
       "      <td>gym bag</td>\n",
       "    </tr>\n",
       "  </tbody>\n",
       "</table>\n",
       "</div>"
      ],
      "text/plain": [
       "   id          name                                        description  \\\n",
       "0   1        huawei  screen size\\t:\\t7.12\" (1080 x 2244) camera\\t:\\...   \n",
       "1   2       duranta  this bicycle has a strong steel frame. its bra...   \n",
       "2  19      cadillac  basic: 4 years / 50000 miles, corrosion: 4 yea...   \n",
       "3  20  aston martin  3 years / unlimited miles basic, 10 years / un...   \n",
       "4  21          nike  you can buy the gym bag traveling bag nike onl...   \n",
       "\n",
       "          brand                         Model  \n",
       "0        huawei              huawei enjoy max  \n",
       "1       duranta  duranta super sports bicycle  \n",
       "2      cadillac         cadillac escalade esv  \n",
       "3  aston martin          aston martin db11 v8  \n",
       "4          nike                       gym bag  "
      ]
     },
     "execution_count": 17,
     "metadata": {},
     "output_type": "execute_result"
    }
   ],
   "source": [
    "df.head()"
   ]
  },
  {
   "cell_type": "code",
   "execution_count": 18,
   "id": "c317961b-7a10-439f-9e97-931f6e4c3bf4",
   "metadata": {},
   "outputs": [],
   "source": [
    "def simplePreprocessing(text):\n",
    "    patt = re.compile(pattern=r\"[\\t:\\d\\.]\")\n",
    "    a = patt.sub(repl=\"\", string=text)\n",
    "    b = a.translate(str.maketrans('','',string.punctuation))\n",
    "    c = \" \".join(b.split())\n",
    "    return c"
   ]
  },
  {
   "cell_type": "code",
   "execution_count": 19,
   "id": "9cb332db-fe21-49df-9b2e-211a0b899305",
   "metadata": {},
   "outputs": [
    {
     "data": {
      "text/html": [
       "<div>\n",
       "<style scoped>\n",
       "    .dataframe tbody tr th:only-of-type {\n",
       "        vertical-align: middle;\n",
       "    }\n",
       "\n",
       "    .dataframe tbody tr th {\n",
       "        vertical-align: top;\n",
       "    }\n",
       "\n",
       "    .dataframe thead th {\n",
       "        text-align: right;\n",
       "    }\n",
       "</style>\n",
       "<table border=\"1\" class=\"dataframe\">\n",
       "  <thead>\n",
       "    <tr style=\"text-align: right;\">\n",
       "      <th></th>\n",
       "      <th>id</th>\n",
       "      <th>name</th>\n",
       "      <th>description</th>\n",
       "      <th>brand</th>\n",
       "      <th>Model</th>\n",
       "    </tr>\n",
       "  </thead>\n",
       "  <tbody>\n",
       "    <tr>\n",
       "      <th>0</th>\n",
       "      <td>1</td>\n",
       "      <td>huawei</td>\n",
       "      <td>screen size x camera mp ramgb battery mah oper...</td>\n",
       "      <td>huawei</td>\n",
       "      <td>huawei enjoy max</td>\n",
       "    </tr>\n",
       "    <tr>\n",
       "      <th>1</th>\n",
       "      <td>2</td>\n",
       "      <td>duranta</td>\n",
       "      <td>this bicycle has a strong steel frame its brak...</td>\n",
       "      <td>duranta</td>\n",
       "      <td>duranta super sports bicycle</td>\n",
       "    </tr>\n",
       "    <tr>\n",
       "      <th>2</th>\n",
       "      <td>19</td>\n",
       "      <td>cadillac</td>\n",
       "      <td>basic years miles corrosion years miles drivet...</td>\n",
       "      <td>cadillac</td>\n",
       "      <td>cadillac escalade esv</td>\n",
       "    </tr>\n",
       "    <tr>\n",
       "      <th>3</th>\n",
       "      <td>20</td>\n",
       "      <td>aston martin</td>\n",
       "      <td>years unlimited miles basic years unlimited mi...</td>\n",
       "      <td>aston martin</td>\n",
       "      <td>aston martin db11 v8</td>\n",
       "    </tr>\n",
       "    <tr>\n",
       "      <th>4</th>\n",
       "      <td>21</td>\n",
       "      <td>nike</td>\n",
       "      <td>you can buy the gym bag traveling bag nike onl...</td>\n",
       "      <td>nike</td>\n",
       "      <td>gym bag</td>\n",
       "    </tr>\n",
       "  </tbody>\n",
       "</table>\n",
       "</div>"
      ],
      "text/plain": [
       "   id          name                                        description  \\\n",
       "0   1        huawei  screen size x camera mp ramgb battery mah oper...   \n",
       "1   2       duranta  this bicycle has a strong steel frame its brak...   \n",
       "2  19      cadillac  basic years miles corrosion years miles drivet...   \n",
       "3  20  aston martin  years unlimited miles basic years unlimited mi...   \n",
       "4  21          nike  you can buy the gym bag traveling bag nike onl...   \n",
       "\n",
       "          brand                         Model  \n",
       "0        huawei              huawei enjoy max  \n",
       "1       duranta  duranta super sports bicycle  \n",
       "2      cadillac         cadillac escalade esv  \n",
       "3  aston martin          aston martin db11 v8  \n",
       "4          nike                       gym bag  "
      ]
     },
     "execution_count": 19,
     "metadata": {},
     "output_type": "execute_result"
    }
   ],
   "source": [
    "df['description'] = df['description'].apply(func=simplePreprocessing)\n",
    "\n",
    "df.head()"
   ]
  },
  {
   "cell_type": "code",
   "execution_count": 20,
   "id": "9e84e597-6d9d-47c6-8efa-5fd192394df8",
   "metadata": {},
   "outputs": [],
   "source": [
    "patt = re.compile(pattern=r\" (mm|mm x|w mm|mp|x|w|mp) \")\n",
    "patt2 = re.compile(pattern=r\" (ww|x x|f|w|mm|n m|a l v|n) \")\n",
    "patt3 = re.compile(pattern=r\" (q|v|l|hz – khz) \")\n",
    "\n",
    "mypatt = [patt, patt2, patt3]\n",
    "\n",
    "def removeSingleAlphabet(text):\n",
    "    for i in mypatt:\n",
    "        text = i.sub(repl=\" \", string=text)\n",
    "    return text"
   ]
  },
  {
   "cell_type": "code",
   "execution_count": 21,
   "id": "76d09292-9679-44a7-a6c1-e044dcaaa27f",
   "metadata": {},
   "outputs": [
    {
     "data": {
      "text/html": [
       "<div>\n",
       "<style scoped>\n",
       "    .dataframe tbody tr th:only-of-type {\n",
       "        vertical-align: middle;\n",
       "    }\n",
       "\n",
       "    .dataframe tbody tr th {\n",
       "        vertical-align: top;\n",
       "    }\n",
       "\n",
       "    .dataframe thead th {\n",
       "        text-align: right;\n",
       "    }\n",
       "</style>\n",
       "<table border=\"1\" class=\"dataframe\">\n",
       "  <thead>\n",
       "    <tr style=\"text-align: right;\">\n",
       "      <th></th>\n",
       "      <th>id</th>\n",
       "      <th>name</th>\n",
       "      <th>description</th>\n",
       "      <th>brand</th>\n",
       "      <th>Model</th>\n",
       "    </tr>\n",
       "  </thead>\n",
       "  <tbody>\n",
       "    <tr>\n",
       "      <th>0</th>\n",
       "      <td>1</td>\n",
       "      <td>huawei</td>\n",
       "      <td>screen size camera ramgb battery mah operating...</td>\n",
       "      <td>huawei</td>\n",
       "      <td>huawei enjoy max</td>\n",
       "    </tr>\n",
       "    <tr>\n",
       "      <th>1</th>\n",
       "      <td>2</td>\n",
       "      <td>duranta</td>\n",
       "      <td>this bicycle has a strong steel frame its brak...</td>\n",
       "      <td>duranta</td>\n",
       "      <td>duranta super sports bicycle</td>\n",
       "    </tr>\n",
       "    <tr>\n",
       "      <th>2</th>\n",
       "      <td>19</td>\n",
       "      <td>cadillac</td>\n",
       "      <td>basic years miles corrosion years miles drivet...</td>\n",
       "      <td>cadillac</td>\n",
       "      <td>cadillac escalade esv</td>\n",
       "    </tr>\n",
       "    <tr>\n",
       "      <th>3</th>\n",
       "      <td>20</td>\n",
       "      <td>aston martin</td>\n",
       "      <td>years unlimited miles basic years unlimited mi...</td>\n",
       "      <td>aston martin</td>\n",
       "      <td>aston martin db11 v8</td>\n",
       "    </tr>\n",
       "    <tr>\n",
       "      <th>4</th>\n",
       "      <td>21</td>\n",
       "      <td>nike</td>\n",
       "      <td>you can buy the gym bag traveling bag nike onl...</td>\n",
       "      <td>nike</td>\n",
       "      <td>gym bag</td>\n",
       "    </tr>\n",
       "  </tbody>\n",
       "</table>\n",
       "</div>"
      ],
      "text/plain": [
       "   id          name                                        description  \\\n",
       "0   1        huawei  screen size camera ramgb battery mah operating...   \n",
       "1   2       duranta  this bicycle has a strong steel frame its brak...   \n",
       "2  19      cadillac  basic years miles corrosion years miles drivet...   \n",
       "3  20  aston martin  years unlimited miles basic years unlimited mi...   \n",
       "4  21          nike  you can buy the gym bag traveling bag nike onl...   \n",
       "\n",
       "          brand                         Model  \n",
       "0        huawei              huawei enjoy max  \n",
       "1       duranta  duranta super sports bicycle  \n",
       "2      cadillac         cadillac escalade esv  \n",
       "3  aston martin          aston martin db11 v8  \n",
       "4          nike                       gym bag  "
      ]
     },
     "execution_count": 21,
     "metadata": {},
     "output_type": "execute_result"
    }
   ],
   "source": [
    "df['description'] = df['description'].apply(func=removeSingleAlphabet)\n",
    "\n",
    "df.head()"
   ]
  },
  {
   "cell_type": "code",
   "execution_count": 22,
   "id": "fad1d1b1-9c6d-4208-9d47-06c420277334",
   "metadata": {},
   "outputs": [
    {
     "data": {
      "text/html": [
       "<div>\n",
       "<style scoped>\n",
       "    .dataframe tbody tr th:only-of-type {\n",
       "        vertical-align: middle;\n",
       "    }\n",
       "\n",
       "    .dataframe tbody tr th {\n",
       "        vertical-align: top;\n",
       "    }\n",
       "\n",
       "    .dataframe thead th {\n",
       "        text-align: right;\n",
       "    }\n",
       "</style>\n",
       "<table border=\"1\" class=\"dataframe\">\n",
       "  <thead>\n",
       "    <tr style=\"text-align: right;\">\n",
       "      <th></th>\n",
       "      <th>id</th>\n",
       "      <th>name</th>\n",
       "      <th>description</th>\n",
       "      <th>brand</th>\n",
       "      <th>Model</th>\n",
       "      <th>tags</th>\n",
       "    </tr>\n",
       "  </thead>\n",
       "  <tbody>\n",
       "    <tr>\n",
       "      <th>0</th>\n",
       "      <td>1</td>\n",
       "      <td>huawei</td>\n",
       "      <td>screen size camera ramgb battery mah operating...</td>\n",
       "      <td>huawei</td>\n",
       "      <td>huawei enjoy max</td>\n",
       "      <td>screen size camera ramgb battery mah operating...</td>\n",
       "    </tr>\n",
       "    <tr>\n",
       "      <th>1</th>\n",
       "      <td>2</td>\n",
       "      <td>duranta</td>\n",
       "      <td>this bicycle has a strong steel frame its brak...</td>\n",
       "      <td>duranta</td>\n",
       "      <td>duranta super sports bicycle</td>\n",
       "      <td>this bicycle has a strong steel frame its brak...</td>\n",
       "    </tr>\n",
       "    <tr>\n",
       "      <th>2</th>\n",
       "      <td>19</td>\n",
       "      <td>cadillac</td>\n",
       "      <td>basic years miles corrosion years miles drivet...</td>\n",
       "      <td>cadillac</td>\n",
       "      <td>cadillac escalade esv</td>\n",
       "      <td>basic years miles corrosion years miles drivet...</td>\n",
       "    </tr>\n",
       "    <tr>\n",
       "      <th>3</th>\n",
       "      <td>20</td>\n",
       "      <td>aston martin</td>\n",
       "      <td>years unlimited miles basic years unlimited mi...</td>\n",
       "      <td>aston martin</td>\n",
       "      <td>aston martin db11 v8</td>\n",
       "      <td>years unlimited miles basic years unlimited mi...</td>\n",
       "    </tr>\n",
       "    <tr>\n",
       "      <th>4</th>\n",
       "      <td>21</td>\n",
       "      <td>nike</td>\n",
       "      <td>you can buy the gym bag traveling bag nike onl...</td>\n",
       "      <td>nike</td>\n",
       "      <td>gym bag</td>\n",
       "      <td>you can buy the gym bag traveling bag nike onl...</td>\n",
       "    </tr>\n",
       "  </tbody>\n",
       "</table>\n",
       "</div>"
      ],
      "text/plain": [
       "   id          name                                        description  \\\n",
       "0   1        huawei  screen size camera ramgb battery mah operating...   \n",
       "1   2       duranta  this bicycle has a strong steel frame its brak...   \n",
       "2  19      cadillac  basic years miles corrosion years miles drivet...   \n",
       "3  20  aston martin  years unlimited miles basic years unlimited mi...   \n",
       "4  21          nike  you can buy the gym bag traveling bag nike onl...   \n",
       "\n",
       "          brand                         Model  \\\n",
       "0        huawei              huawei enjoy max   \n",
       "1       duranta  duranta super sports bicycle   \n",
       "2      cadillac         cadillac escalade esv   \n",
       "3  aston martin          aston martin db11 v8   \n",
       "4          nike                       gym bag   \n",
       "\n",
       "                                                tags  \n",
       "0  screen size camera ramgb battery mah operating...  \n",
       "1  this bicycle has a strong steel frame its brak...  \n",
       "2  basic years miles corrosion years miles drivet...  \n",
       "3  years unlimited miles basic years unlimited mi...  \n",
       "4  you can buy the gym bag traveling bag nike onl...  "
      ]
     },
     "execution_count": 22,
     "metadata": {},
     "output_type": "execute_result"
    }
   ],
   "source": [
    "df['tags'] = df['description'] + df['brand'] + df['Model']\n",
    "\n",
    "df.head()"
   ]
  },
  {
   "cell_type": "code",
   "execution_count": 23,
   "id": "4f0933fb-d816-462b-8a3d-167d57447945",
   "metadata": {},
   "outputs": [
    {
     "data": {
      "text/html": [
       "<div>\n",
       "<style scoped>\n",
       "    .dataframe tbody tr th:only-of-type {\n",
       "        vertical-align: middle;\n",
       "    }\n",
       "\n",
       "    .dataframe tbody tr th {\n",
       "        vertical-align: top;\n",
       "    }\n",
       "\n",
       "    .dataframe thead th {\n",
       "        text-align: right;\n",
       "    }\n",
       "</style>\n",
       "<table border=\"1\" class=\"dataframe\">\n",
       "  <thead>\n",
       "    <tr style=\"text-align: right;\">\n",
       "      <th></th>\n",
       "      <th>id</th>\n",
       "      <th>name</th>\n",
       "      <th>tags</th>\n",
       "    </tr>\n",
       "  </thead>\n",
       "  <tbody>\n",
       "    <tr>\n",
       "      <th>0</th>\n",
       "      <td>1</td>\n",
       "      <td>huawei</td>\n",
       "      <td>screen size camera ramgb battery mah operating...</td>\n",
       "    </tr>\n",
       "    <tr>\n",
       "      <th>1</th>\n",
       "      <td>2</td>\n",
       "      <td>duranta</td>\n",
       "      <td>this bicycle has a strong steel frame its brak...</td>\n",
       "    </tr>\n",
       "    <tr>\n",
       "      <th>2</th>\n",
       "      <td>19</td>\n",
       "      <td>cadillac</td>\n",
       "      <td>basic years miles corrosion years miles drivet...</td>\n",
       "    </tr>\n",
       "    <tr>\n",
       "      <th>3</th>\n",
       "      <td>20</td>\n",
       "      <td>aston martin</td>\n",
       "      <td>years unlimited miles basic years unlimited mi...</td>\n",
       "    </tr>\n",
       "    <tr>\n",
       "      <th>4</th>\n",
       "      <td>21</td>\n",
       "      <td>nike</td>\n",
       "      <td>you can buy the gym bag traveling bag nike onl...</td>\n",
       "    </tr>\n",
       "  </tbody>\n",
       "</table>\n",
       "</div>"
      ],
      "text/plain": [
       "   id          name                                               tags\n",
       "0   1        huawei  screen size camera ramgb battery mah operating...\n",
       "1   2       duranta  this bicycle has a strong steel frame its brak...\n",
       "2  19      cadillac  basic years miles corrosion years miles drivet...\n",
       "3  20  aston martin  years unlimited miles basic years unlimited mi...\n",
       "4  21          nike  you can buy the gym bag traveling bag nike onl..."
      ]
     },
     "execution_count": 23,
     "metadata": {},
     "output_type": "execute_result"
    }
   ],
   "source": [
    "df2 = df.drop(columns=['description', 'brand', 'Model'])\n",
    "\n",
    "df2.head()"
   ]
  },
  {
   "cell_type": "code",
   "execution_count": 24,
   "id": "161e43eb-edf7-4da3-a4e9-ac5661eda245",
   "metadata": {},
   "outputs": [
    {
     "data": {
      "text/plain": [
       "(153, 3)"
      ]
     },
     "execution_count": 24,
     "metadata": {},
     "output_type": "execute_result"
    }
   ],
   "source": [
    "df2.shape"
   ]
  },
  {
   "cell_type": "code",
   "execution_count": 25,
   "id": "7629d4fe-54f8-425f-a0f8-e98a8a8360c2",
   "metadata": {},
   "outputs": [
    {
     "data": {
      "text/plain": [
       "0"
      ]
     },
     "execution_count": 25,
     "metadata": {},
     "output_type": "execute_result"
    }
   ],
   "source": [
    "df2.isnull().sum().sum()"
   ]
  },
  {
   "cell_type": "code",
   "execution_count": 26,
   "id": "9c2a26b8-c04f-44ca-9c03-2cfa2e8b3683",
   "metadata": {},
   "outputs": [
    {
     "data": {
      "text/plain": [
       "'this bicycle has a strong steel frame its brake system is very strong which allows you to maintain control in all situations its seat is adjustable so you can change it as needed its front and rear wheels are fitted with mudguards so that the rider does not get mud while riding on the roaddurantaduranta super sports bicycle'"
      ]
     },
     "execution_count": 26,
     "metadata": {},
     "output_type": "execute_result"
    }
   ],
   "source": [
    "df2.loc[1, 'tags']"
   ]
  },
  {
   "cell_type": "code",
   "execution_count": 27,
   "id": "4f909e81-4c58-4d3f-b60a-f68775a30738",
   "metadata": {},
   "outputs": [
    {
     "name": "stdout",
     "output_type": "stream",
     "text": [
      "['this', 'bicycle', 'has', 'a', 'strong', 'steel', 'frame', 'its', 'brake', 'system', 'is', 'very', 'strong', 'which', 'allows', 'you', 'to', 'maintain', 'control', 'in', 'all', 'situations', 'its', 'seat', 'is', 'adjustable', 'so', 'you', 'can', 'change', 'it', 'as', 'needed', 'its', 'front', 'and', 'rear', 'wheels', 'are', 'fitted', 'with', 'mudguards', 'so', 'that', 'the', 'rider', 'does', 'not', 'get', 'mud', 'while', 'riding', 'on', 'the', 'roaddurantaduranta', 'super', 'sports', 'bicycle']\n"
     ]
    }
   ],
   "source": [
    "print(df2.loc[1, 'tags'].split())"
   ]
  },
  {
   "cell_type": "code",
   "execution_count": 28,
   "id": "63ed1e57-1af3-47b9-881c-be48ae8043a7",
   "metadata": {},
   "outputs": [
    {
     "name": "stdout",
     "output_type": "stream",
     "text": [
      "['this', 'bicycle', 'has', 'a', 'strong', 'steel', 'frame', 'its', 'brake', 'system', 'is', 'very', 'strong', 'which', 'allows', 'you', 'to', 'maintain', 'control', 'in', 'all', 'situations', 'its', 'seat', 'is', 'adjustable', 'so', 'you', 'can', 'change', 'it', 'as', 'needed', 'its', 'front', 'and', 'rear', 'wheels', 'are', 'fitted', 'with', 'mudguards', 'so', 'that', 'the', 'rider', 'does', 'not', 'get', 'mud', 'while', 'riding', 'on', 'the', 'roaddurantaduranta', 'super', 'sports', 'bicycle']\n"
     ]
    }
   ],
   "source": [
    "print(word_tokenize(text=df2.loc[1, 'tags']))"
   ]
  },
  {
   "cell_type": "code",
   "execution_count": 29,
   "id": "ad0f58d7-21ae-4a8f-93c6-a2941884a349",
   "metadata": {},
   "outputs": [],
   "source": [
    "df3 = df2.copy()"
   ]
  },
  {
   "cell_type": "markdown",
   "id": "3402624f-0288-4a68-b328-3160b0a03006",
   "metadata": {},
   "source": [
    "## Create WordNetLemmatizer object"
   ]
  },
  {
   "cell_type": "code",
   "execution_count": 30,
   "id": "f36da9cf-27f8-4e34-8e7a-1a9fa0d50555",
   "metadata": {},
   "outputs": [],
   "source": [
    "lemmatizer = WordNetLemmatizer()"
   ]
  },
  {
   "cell_type": "markdown",
   "id": "83fded03-1c0a-400c-8842-ce196ba6ee1d",
   "metadata": {},
   "source": [
    "## Remove stopwords and lemmatize those words"
   ]
  },
  {
   "cell_type": "code",
   "execution_count": 31,
   "id": "7e4beeac-5e9a-4683-88dc-92ce457ce7b3",
   "metadata": {},
   "outputs": [],
   "source": [
    "def textLemmatizer(text):\n",
    "    lis = []\n",
    "    words = word_tokenize(text=text)\n",
    "    words = [lemmatizer.lemmatize(word=word) for word in words if word not in stopwords.words('english')]\n",
    "    text = ' '.join(words)\n",
    "    return text"
   ]
  },
  {
   "cell_type": "code",
   "execution_count": 32,
   "id": "6c3dad68-b95b-4b85-ab97-f5c221159208",
   "metadata": {},
   "outputs": [
    {
     "data": {
      "text/plain": [
       "'bicycle strong steel frame brake system strong allows maintain control situation seat adjustable change needed front rear wheel fitted mudguard rider get mud riding roaddurantaduranta super sport bicycle'"
      ]
     },
     "execution_count": 32,
     "metadata": {},
     "output_type": "execute_result"
    }
   ],
   "source": [
    "text = \"\"\"this bicycle has a strong steel frame its brake system is very strong which allows you to maintain control in all situations its seat is adjustable so you can change it as needed its front and rear wheels are fitted with mudguards so that the rider does not get mud while riding on the roaddurantaduranta super sports bicycle\"\"\"\n",
    "\n",
    "result = textLemmatizer(text)\n",
    "\n",
    "result"
   ]
  },
  {
   "cell_type": "code",
   "execution_count": 33,
   "id": "6a4173ec-a92c-4bdc-8548-056dc850182a",
   "metadata": {},
   "outputs": [
    {
     "data": {
      "text/html": [
       "<div>\n",
       "<style scoped>\n",
       "    .dataframe tbody tr th:only-of-type {\n",
       "        vertical-align: middle;\n",
       "    }\n",
       "\n",
       "    .dataframe tbody tr th {\n",
       "        vertical-align: top;\n",
       "    }\n",
       "\n",
       "    .dataframe thead th {\n",
       "        text-align: right;\n",
       "    }\n",
       "</style>\n",
       "<table border=\"1\" class=\"dataframe\">\n",
       "  <thead>\n",
       "    <tr style=\"text-align: right;\">\n",
       "      <th></th>\n",
       "      <th>id</th>\n",
       "      <th>name</th>\n",
       "      <th>tags</th>\n",
       "    </tr>\n",
       "  </thead>\n",
       "  <tbody>\n",
       "    <tr>\n",
       "      <th>0</th>\n",
       "      <td>1</td>\n",
       "      <td>huawei</td>\n",
       "      <td>screen size camera ramgb battery mah operating...</td>\n",
       "    </tr>\n",
       "    <tr>\n",
       "      <th>1</th>\n",
       "      <td>2</td>\n",
       "      <td>duranta</td>\n",
       "      <td>bicycle strong steel frame brake system strong...</td>\n",
       "    </tr>\n",
       "    <tr>\n",
       "      <th>2</th>\n",
       "      <td>19</td>\n",
       "      <td>cadillac</td>\n",
       "      <td>basic year mile corrosion year mile drivetrain...</td>\n",
       "    </tr>\n",
       "    <tr>\n",
       "      <th>3</th>\n",
       "      <td>20</td>\n",
       "      <td>aston martin</td>\n",
       "      <td>year unlimited mile basic year unlimited mile ...</td>\n",
       "    </tr>\n",
       "    <tr>\n",
       "      <th>4</th>\n",
       "      <td>21</td>\n",
       "      <td>nike</td>\n",
       "      <td>buy gym bag traveling bag nike online banglade...</td>\n",
       "    </tr>\n",
       "  </tbody>\n",
       "</table>\n",
       "</div>"
      ],
      "text/plain": [
       "   id          name                                               tags\n",
       "0   1        huawei  screen size camera ramgb battery mah operating...\n",
       "1   2       duranta  bicycle strong steel frame brake system strong...\n",
       "2  19      cadillac  basic year mile corrosion year mile drivetrain...\n",
       "3  20  aston martin  year unlimited mile basic year unlimited mile ...\n",
       "4  21          nike  buy gym bag traveling bag nike online banglade..."
      ]
     },
     "execution_count": 33,
     "metadata": {},
     "output_type": "execute_result"
    }
   ],
   "source": [
    "df2['tags'] = df2['tags'].apply(textLemmatizer)\n",
    "\n",
    "df2.head()"
   ]
  },
  {
   "cell_type": "code",
   "execution_count": 34,
   "id": "836a08ca-a10f-4a5d-b622-32746009abbf",
   "metadata": {},
   "outputs": [
    {
     "data": {
      "text/plain": [
       "'bicycle strong steel frame brake system strong allows maintain control situation seat adjustable change needed front rear wheel fitted mudguard rider get mud riding roaddurantaduranta super sport bicycle'"
      ]
     },
     "execution_count": 34,
     "metadata": {},
     "output_type": "execute_result"
    }
   ],
   "source": [
    "df2.loc[1, 'tags']"
   ]
  },
  {
   "cell_type": "markdown",
   "id": "55e507ab-ee0f-4e49-a2aa-62898a5e3006",
   "metadata": {},
   "source": [
    "## Apply TF-IDF "
   ]
  },
  {
   "cell_type": "code",
   "execution_count": 35,
   "id": "e3994baf-0a0a-498d-9630-5c1aa5542fef",
   "metadata": {},
   "outputs": [],
   "source": [
    "tf_idf = TfidfVectorizer(max_features=2000)"
   ]
  },
  {
   "cell_type": "code",
   "execution_count": 36,
   "id": "cff53bd4-a256-4f1e-baed-969a60b04bff",
   "metadata": {},
   "outputs": [],
   "source": [
    "tf_idf_vectors = tf_idf.fit_transform(raw_documents=df2['tags']).toarray()"
   ]
  },
  {
   "cell_type": "code",
   "execution_count": 37,
   "id": "aa3510b9-c603-4de0-a958-1fde219510d2",
   "metadata": {},
   "outputs": [
    {
     "data": {
      "text/plain": [
       "array(['010', '013', '018', ..., 'zari', 'zigzag', 'zoom'], dtype=object)"
      ]
     },
     "execution_count": 37,
     "metadata": {},
     "output_type": "execute_result"
    }
   ],
   "source": [
    "tf_idf.get_feature_names_out()"
   ]
  },
  {
   "cell_type": "code",
   "execution_count": 38,
   "id": "1d0b7dfa-195e-4eb4-9bb9-11c8082dddff",
   "metadata": {},
   "outputs": [
    {
     "data": {
      "text/plain": [
       "array([0., 0., 0., ..., 0., 0., 0.])"
      ]
     },
     "execution_count": 38,
     "metadata": {},
     "output_type": "execute_result"
    }
   ],
   "source": [
    "tf_idf_vectors[0]"
   ]
  },
  {
   "cell_type": "code",
   "execution_count": 39,
   "id": "2957ffbd-49d5-4637-ba7a-7d03abb823fc",
   "metadata": {},
   "outputs": [
    {
     "data": {
      "text/plain": [
       "(153, 1290)"
      ]
     },
     "execution_count": 39,
     "metadata": {},
     "output_type": "execute_result"
    }
   ],
   "source": [
    "tf_idf_vectors.shape"
   ]
  },
  {
   "cell_type": "code",
   "execution_count": 40,
   "id": "4f6eea53-e812-47e4-b7b4-8d76bb649c84",
   "metadata": {},
   "outputs": [
    {
     "data": {
      "text/plain": [
       "array([[0., 0., 0., ..., 0., 0., 0.],\n",
       "       [0., 0., 0., ..., 0., 0., 0.],\n",
       "       [0., 0., 0., ..., 0., 0., 0.],\n",
       "       ...,\n",
       "       [0., 0., 0., ..., 0., 0., 0.],\n",
       "       [0., 0., 0., ..., 0., 0., 0.],\n",
       "       [0., 0., 0., ..., 0., 0., 0.]])"
      ]
     },
     "execution_count": 40,
     "metadata": {},
     "output_type": "execute_result"
    }
   ],
   "source": [
    "tf_idf_vectors"
   ]
  },
  {
   "cell_type": "markdown",
   "id": "54b84fc7-8c14-4877-b89a-75dad00d42cd",
   "metadata": {},
   "source": [
    "## Check the similarity between the words"
   ]
  },
  {
   "cell_type": "code",
   "execution_count": 41,
   "id": "f69028fa-1da4-421d-af72-e57a8fbeee6c",
   "metadata": {},
   "outputs": [],
   "source": [
    "similarity = cosine_similarity(X=tf_idf_vectors)"
   ]
  },
  {
   "cell_type": "code",
   "execution_count": 42,
   "id": "14fedf54-a194-4bd9-9309-904b0ded66b6",
   "metadata": {},
   "outputs": [
    {
     "data": {
      "text/plain": [
       "(153, 153)"
      ]
     },
     "execution_count": 42,
     "metadata": {},
     "output_type": "execute_result"
    }
   ],
   "source": [
    "similarity.shape"
   ]
  },
  {
   "cell_type": "code",
   "execution_count": 43,
   "id": "8f7fac09-ccbd-4fde-90cd-d350416d8afd",
   "metadata": {},
   "outputs": [
    {
     "data": {
      "text/plain": [
       "array([1.        , 0.        , 0.        , 0.        , 0.        ,\n",
       "       0.05401968, 0.        , 0.        , 0.        , 0.        ,\n",
       "       0.03950974, 0.        , 0.        , 0.        , 0.        ,\n",
       "       0.07530558, 0.10610892, 0.        , 0.07952949, 0.106362  ,\n",
       "       0.        , 0.18138298, 0.        , 0.        , 0.        ,\n",
       "       0.        , 0.05370973, 0.        , 0.05889805, 0.        ,\n",
       "       0.        , 0.        , 0.        , 0.        , 0.        ,\n",
       "       0.        , 0.        , 0.        , 0.        , 0.        ,\n",
       "       0.        , 0.        , 0.        , 0.06830434, 0.        ,\n",
       "       0.        , 0.        , 0.        , 0.        , 0.        ,\n",
       "       0.        , 0.        , 0.        , 0.        , 0.        ,\n",
       "       0.        , 0.        , 0.        , 0.04440784, 0.        ,\n",
       "       0.        , 0.        , 0.        , 0.        , 0.        ,\n",
       "       0.        , 0.        , 0.        , 0.        , 0.        ,\n",
       "       0.        , 0.        , 0.        , 0.        , 0.        ,\n",
       "       0.        , 0.03659646, 0.        , 0.02363671, 0.        ,\n",
       "       0.        , 0.        , 0.        , 0.        , 0.        ,\n",
       "       0.        , 0.        , 0.        , 0.        , 0.        ,\n",
       "       0.03653112, 0.        , 0.        , 0.        , 0.        ,\n",
       "       0.        , 0.        , 0.        , 0.        , 0.        ,\n",
       "       0.        , 0.        , 0.        , 0.        , 0.        ,\n",
       "       0.        , 0.        , 0.        , 0.        , 0.        ,\n",
       "       0.        , 0.02239639, 0.        , 0.        , 0.        ,\n",
       "       0.04225548, 0.        , 0.        , 0.        , 0.05996936,\n",
       "       0.        , 0.        , 0.        , 0.        , 0.        ,\n",
       "       0.        , 0.        , 0.        , 0.        , 0.        ,\n",
       "       0.        , 0.        , 0.        , 0.        , 0.        ,\n",
       "       0.        , 0.        , 0.        , 0.        , 0.03644189,\n",
       "       0.        , 0.        , 0.        , 0.        , 0.        ,\n",
       "       0.        , 0.        , 0.05898908, 0.        , 0.        ,\n",
       "       0.        , 0.        , 0.0497742 ])"
      ]
     },
     "execution_count": 43,
     "metadata": {},
     "output_type": "execute_result"
    }
   ],
   "source": [
    "similarity[0]"
   ]
  },
  {
   "cell_type": "code",
   "execution_count": 44,
   "id": "18c3170c-62fd-44fb-ad3d-95ba2336641a",
   "metadata": {},
   "outputs": [
    {
     "data": {
      "text/plain": [
       "array([0.        , 1.        , 0.        , 0.        , 0.03876492,\n",
       "       0.        , 0.        , 0.        , 0.        , 0.        ,\n",
       "       0.22760906, 0.47023878, 0.1370756 , 0.        , 0.        ,\n",
       "       0.        , 0.        , 0.        , 0.        , 0.        ,\n",
       "       0.        , 0.        , 0.        , 0.        , 0.        ,\n",
       "       0.        , 0.        , 0.        , 0.        , 0.        ,\n",
       "       0.        , 0.        , 0.04521035, 0.        , 0.        ,\n",
       "       0.        , 0.        , 0.        , 0.02356674, 0.03089456,\n",
       "       0.        , 0.        , 0.        , 0.        , 0.        ,\n",
       "       0.        , 0.        , 0.        , 0.02051336, 0.        ,\n",
       "       0.        , 0.        , 0.        , 0.        , 0.        ,\n",
       "       0.        , 0.        , 0.        , 0.02511157, 0.        ,\n",
       "       0.        , 0.        , 0.        , 0.        , 0.02218058,\n",
       "       0.        , 0.06775046, 0.        , 0.        , 0.        ,\n",
       "       0.09242149, 0.        , 0.        , 0.        , 0.        ,\n",
       "       0.        , 0.        , 0.        , 0.        , 0.        ,\n",
       "       0.        , 0.        , 0.        , 0.        , 0.        ,\n",
       "       0.        , 0.        , 0.        , 0.        , 0.        ,\n",
       "       0.        , 0.        , 0.        , 0.        , 0.        ,\n",
       "       0.        , 0.        , 0.        , 0.        , 0.        ,\n",
       "       0.07597202, 0.        , 0.        , 0.        , 0.        ,\n",
       "       0.        , 0.        , 0.        , 0.        , 0.        ,\n",
       "       0.        , 0.        , 0.        , 0.        , 0.        ,\n",
       "       0.02186768, 0.        , 0.        , 0.        , 0.03103481,\n",
       "       0.        , 0.        , 0.        , 0.        , 0.        ,\n",
       "       0.        , 0.        , 0.028996  , 0.        , 0.03030358,\n",
       "       0.        , 0.        , 0.04356404, 0.        , 0.        ,\n",
       "       0.        , 0.        , 0.        , 0.        , 0.        ,\n",
       "       0.        , 0.01571696, 0.01689736, 0.        , 0.        ,\n",
       "       0.        , 0.        , 0.0958471 , 0.        , 0.        ,\n",
       "       0.        , 0.        , 0.        ])"
      ]
     },
     "execution_count": 44,
     "metadata": {},
     "output_type": "execute_result"
    }
   ],
   "source": [
    "similarity[1]"
   ]
  },
  {
   "cell_type": "code",
   "execution_count": 45,
   "id": "b0c24b76-946e-4b12-9588-e4b6e9084604",
   "metadata": {},
   "outputs": [
    {
     "data": {
      "text/plain": [
       "(153,)"
      ]
     },
     "execution_count": 45,
     "metadata": {},
     "output_type": "execute_result"
    }
   ],
   "source": [
    "similarity[1].shape"
   ]
  },
  {
   "cell_type": "markdown",
   "id": "9cf93064-47a9-41ce-91d0-57eca2fc292e",
   "metadata": {},
   "source": [
    "### Demo test start"
   ]
  },
  {
   "cell_type": "code",
   "execution_count": 46,
   "id": "941c4089-6197-40fa-acd8-79d048e62c01",
   "metadata": {
    "tags": []
   },
   "outputs": [
    {
     "data": {
      "text/html": [
       "<div>\n",
       "<style scoped>\n",
       "    .dataframe tbody tr th:only-of-type {\n",
       "        vertical-align: middle;\n",
       "    }\n",
       "\n",
       "    .dataframe tbody tr th {\n",
       "        vertical-align: top;\n",
       "    }\n",
       "\n",
       "    .dataframe thead th {\n",
       "        text-align: right;\n",
       "    }\n",
       "</style>\n",
       "<table border=\"1\" class=\"dataframe\">\n",
       "  <thead>\n",
       "    <tr style=\"text-align: right;\">\n",
       "      <th></th>\n",
       "      <th>id</th>\n",
       "      <th>name</th>\n",
       "      <th>tags</th>\n",
       "    </tr>\n",
       "  </thead>\n",
       "  <tbody>\n",
       "    <tr>\n",
       "      <th>0</th>\n",
       "      <td>1</td>\n",
       "      <td>huawei</td>\n",
       "      <td>screen size camera ramgb battery mah operating...</td>\n",
       "    </tr>\n",
       "  </tbody>\n",
       "</table>\n",
       "</div>"
      ],
      "text/plain": [
       "   id    name                                               tags\n",
       "0   1  huawei  screen size camera ramgb battery mah operating..."
      ]
     },
     "execution_count": 46,
     "metadata": {},
     "output_type": "execute_result"
    }
   ],
   "source": [
    "df2[df2['name'] == 'huawei']"
   ]
  },
  {
   "cell_type": "code",
   "execution_count": 47,
   "id": "d2e55597-30e2-483b-93a8-1865a7d5b451",
   "metadata": {},
   "outputs": [
    {
     "data": {
      "text/plain": [
       "0"
      ]
     },
     "execution_count": 47,
     "metadata": {},
     "output_type": "execute_result"
    }
   ],
   "source": [
    "df2[df2['name'] == 'huawei'].index[0]"
   ]
  },
  {
   "cell_type": "code",
   "execution_count": 48,
   "id": "71ceb96e-d1ba-49cf-81ef-a93c62f575a2",
   "metadata": {},
   "outputs": [
    {
     "data": {
      "text/plain": [
       "[(0, 1.0000000000000002),\n",
       " (1, 0.0),\n",
       " (2, 0.0),\n",
       " (3, 0.0),\n",
       " (4, 0.0),\n",
       " (5, 0.0540196789475405),\n",
       " (6, 0.0),\n",
       " (7, 0.0),\n",
       " (8, 0.0),\n",
       " (9, 0.0),\n",
       " (10, 0.039509739272212636),\n",
       " (11, 0.0),\n",
       " (12, 0.0),\n",
       " (13, 0.0),\n",
       " (14, 0.0),\n",
       " (15, 0.07530557971545761),\n",
       " (16, 0.10610891719642623),\n",
       " (17, 0.0),\n",
       " (18, 0.07952949370185838),\n",
       " (19, 0.1063619965093359)]"
      ]
     },
     "execution_count": 48,
     "metadata": {},
     "output_type": "execute_result"
    }
   ],
   "source": [
    "list(enumerate(similarity[df2[df2['name'] == 'huawei'].index[0]]))[:20]"
   ]
  },
  {
   "cell_type": "code",
   "execution_count": 49,
   "id": "24019c10-621f-4501-a4e8-f99a179d151f",
   "metadata": {},
   "outputs": [
    {
     "data": {
      "text/plain": [
       "[(0, 1.0000000000000002),\n",
       " (21, 0.1813829798712177),\n",
       " (19, 0.1063619965093359),\n",
       " (16, 0.10610891719642623),\n",
       " (18, 0.07952949370185838),\n",
       " (15, 0.07530557971545761),\n",
       " (43, 0.06830434260897499),\n",
       " (119, 0.059969357622131986),\n",
       " (147, 0.058989077963006266),\n",
       " (28, 0.0588980543843816),\n",
       " (5, 0.0540196789475405),\n",
       " (26, 0.05370972797155801),\n",
       " (152, 0.04977419626220306),\n",
       " (58, 0.04440784421909613),\n",
       " (115, 0.04225548089151964),\n",
       " (10, 0.039509739272212636),\n",
       " (76, 0.03659645884976964),\n",
       " (90, 0.03653111949121198),\n",
       " (139, 0.0364418945138332),\n",
       " (78, 0.023636713535303392)]"
      ]
     },
     "execution_count": 49,
     "metadata": {},
     "output_type": "execute_result"
    }
   ],
   "source": [
    "sorted(list(enumerate(similarity[df2[df2['name'] == 'huawei'].index[0]])), reverse=True, key=lambda x:x[1])[:20]"
   ]
  },
  {
   "cell_type": "code",
   "execution_count": 50,
   "id": "1a0dbe84-4cbe-41fb-ad71-197af1b1dd98",
   "metadata": {},
   "outputs": [
    {
     "data": {
      "text/plain": [
       "[(0, 1.0000000000000002),\n",
       " (21, 0.1813829798712177),\n",
       " (19, 0.1063619965093359),\n",
       " (16, 0.10610891719642623),\n",
       " (18, 0.07952949370185838),\n",
       " (15, 0.07530557971545761),\n",
       " (43, 0.06830434260897499),\n",
       " (119, 0.059969357622131986),\n",
       " (147, 0.058989077963006266),\n",
       " (28, 0.0588980543843816)]"
      ]
     },
     "execution_count": 50,
     "metadata": {},
     "output_type": "execute_result"
    }
   ],
   "source": [
    "sorted(list(enumerate(similarity[df2[df2['name'] == 'huawei'].index[0]])), reverse=True, key=lambda x : x[1])[:10]"
   ]
  },
  {
   "cell_type": "code",
   "execution_count": 51,
   "id": "bd082db4-00e9-47f8-8da2-6c242ce5d8c5",
   "metadata": {},
   "outputs": [],
   "source": [
    "all_distance = sorted(list(enumerate(similarity[df2[df2['name'] == 'huawei'].index[0]])), reverse=True, key=lambda x : x[1])[:10]"
   ]
  },
  {
   "cell_type": "code",
   "execution_count": 52,
   "id": "30a82a63-ec67-438c-87a1-9d334d1b934f",
   "metadata": {},
   "outputs": [
    {
     "name": "stdout",
     "output_type": "stream",
     "text": [
      "huawei\n",
      "realme\n",
      "redmi\n",
      "motorola moto\n",
      "datsun\n",
      "haier\n",
      "apple imac pc\n",
      "dell inspiron 15 3515 laptop\n",
      "diamond storm  pro rgb gaming casing\n",
      "oppo\n"
     ]
    }
   ],
   "source": [
    "for i in all_distance:\n",
    "    print(df2.loc[i[0], 'name'])"
   ]
  },
  {
   "cell_type": "markdown",
   "id": "b9f1b874-5439-44ab-828f-7de7c77928f8",
   "metadata": {},
   "source": [
    "### Demo Test End"
   ]
  },
  {
   "cell_type": "markdown",
   "id": "c5f3f117-e0ff-41e4-b781-fc467ce3959c",
   "metadata": {},
   "source": [
    "### Recommendar Function"
   ]
  },
  {
   "cell_type": "code",
   "execution_count": 74,
   "id": "7c6b89ba-e2f4-4bca-b0a3-29f93844ad05",
   "metadata": {},
   "outputs": [],
   "source": [
    "def productRecommender(productName):\n",
    "    productName = productName.lower()\n",
    "    product_index = df2[df2['name'] == productName].index[0]\n",
    "    distances = sorted(list(enumerate(similarity[product_index])), reverse=True, key=lambda x : x[1])\n",
    "    for i in distances[1:16]:\n",
    "        print(df2.loc[i[0], 'name'])"
   ]
  },
  {
   "cell_type": "code",
   "execution_count": 75,
   "id": "3cc5db14-c883-4d6e-982b-6190b1449a19",
   "metadata": {},
   "outputs": [
    {
     "name": "stdout",
     "output_type": "stream",
     "text": [
      "ladies backpack\n",
      "laptop pouch bag\n",
      "ladies backpack\n",
      "baby gym rack and game pad combo\n",
      "lg 32lk510b 32\" hd led television\n",
      "duranta\n",
      "led light\n",
      "huawei\n",
      "cadillac\n",
      "aston martin\n",
      "lakmé\n",
      "lakmé 9 to 5\n",
      "hijab\n",
      "forever bicycle\n",
      "express\n"
     ]
    }
   ],
   "source": [
    "productRecommender('Nike')"
   ]
  },
  {
   "cell_type": "code",
   "execution_count": 55,
   "id": "f9cf7731-9b51-432c-80f1-d81633eda011",
   "metadata": {},
   "outputs": [
    {
     "name": "stdout",
     "output_type": "stream",
     "text": [
      "forever bicycle\n",
      "nokia\n",
      "oppo\n",
      "iphone\n",
      "redmi\n",
      "chuwi herobook  laptop\n",
      "diamond storm  pro rgb gaming casing\n",
      "huawei\n",
      "duranta\n",
      "cadillac\n",
      "aston martin\n",
      "nike\n",
      "ladies backpack\n",
      "ladies backpack\n",
      "lakmé\n"
     ]
    }
   ],
   "source": [
    "productRecommender('oneplus')"
   ]
  },
  {
   "cell_type": "code",
   "execution_count": 56,
   "id": "c89ee4bc-b7b7-4cdb-b862-33efcb28f276",
   "metadata": {},
   "outputs": [
    {
     "name": "stdout",
     "output_type": "stream",
     "text": [
      "express\n",
      "forever bicycle\n",
      "super 16\n",
      "diamond storm  pro rgb gaming casing\n",
      "playtime king slider\n",
      "semi fitted panjabi\n",
      "kick scooter kids\n",
      "x corolla\n",
      "zoom hd digital camera\n",
      "nike\n",
      "dell inspiron 15 3515 laptop\n",
      "gfc monet ceiling fan\n",
      "electronic dry iron\n",
      "blender vis-sbl-018 rapid power\n",
      "michael kors\n"
     ]
    }
   ],
   "source": [
    "productRecommender('duranta')"
   ]
  },
  {
   "cell_type": "markdown",
   "id": "b070afc5-bfeb-4462-85ce-81c5b15e16ac",
   "metadata": {},
   "source": [
    "## Apply porterStemmer"
   ]
  },
  {
   "cell_type": "code",
   "execution_count": 57,
   "id": "ed19dd31-ee81-450b-9e04-0d8c3f325a2c",
   "metadata": {},
   "outputs": [],
   "source": [
    "ps = PorterStemmer()"
   ]
  },
  {
   "cell_type": "markdown",
   "id": "43f7ec65-e18d-4637-a295-dee869b5a803",
   "metadata": {},
   "source": [
    "### Remove stopwords and stem those words"
   ]
  },
  {
   "cell_type": "code",
   "execution_count": 58,
   "id": "60d65135-bbd6-41cf-b420-f4eae84ef255",
   "metadata": {},
   "outputs": [],
   "source": [
    "def textPorterStemmer(text):\n",
    "    lis = []\n",
    "    words = word_tokenize(text=text)\n",
    "    words = [ps.stem(word=word) for word in words if word not in stopwords.words('english')]\n",
    "    text = ' '.join(words)\n",
    "    return text"
   ]
  },
  {
   "cell_type": "code",
   "execution_count": 59,
   "id": "57ed5d2e-2f29-4e6f-b30c-0e2caf44c938",
   "metadata": {},
   "outputs": [
    {
     "data": {
      "text/html": [
       "<div>\n",
       "<style scoped>\n",
       "    .dataframe tbody tr th:only-of-type {\n",
       "        vertical-align: middle;\n",
       "    }\n",
       "\n",
       "    .dataframe tbody tr th {\n",
       "        vertical-align: top;\n",
       "    }\n",
       "\n",
       "    .dataframe thead th {\n",
       "        text-align: right;\n",
       "    }\n",
       "</style>\n",
       "<table border=\"1\" class=\"dataframe\">\n",
       "  <thead>\n",
       "    <tr style=\"text-align: right;\">\n",
       "      <th></th>\n",
       "      <th>id</th>\n",
       "      <th>name</th>\n",
       "      <th>tags</th>\n",
       "    </tr>\n",
       "  </thead>\n",
       "  <tbody>\n",
       "    <tr>\n",
       "      <th>0</th>\n",
       "      <td>1</td>\n",
       "      <td>huawei</td>\n",
       "      <td>screen size camera ramgb battery mah operating...</td>\n",
       "    </tr>\n",
       "    <tr>\n",
       "      <th>1</th>\n",
       "      <td>2</td>\n",
       "      <td>duranta</td>\n",
       "      <td>this bicycle has a strong steel frame its brak...</td>\n",
       "    </tr>\n",
       "    <tr>\n",
       "      <th>2</th>\n",
       "      <td>19</td>\n",
       "      <td>cadillac</td>\n",
       "      <td>basic years miles corrosion years miles drivet...</td>\n",
       "    </tr>\n",
       "    <tr>\n",
       "      <th>3</th>\n",
       "      <td>20</td>\n",
       "      <td>aston martin</td>\n",
       "      <td>years unlimited miles basic years unlimited mi...</td>\n",
       "    </tr>\n",
       "    <tr>\n",
       "      <th>4</th>\n",
       "      <td>21</td>\n",
       "      <td>nike</td>\n",
       "      <td>you can buy the gym bag traveling bag nike onl...</td>\n",
       "    </tr>\n",
       "  </tbody>\n",
       "</table>\n",
       "</div>"
      ],
      "text/plain": [
       "   id          name                                               tags\n",
       "0   1        huawei  screen size camera ramgb battery mah operating...\n",
       "1   2       duranta  this bicycle has a strong steel frame its brak...\n",
       "2  19      cadillac  basic years miles corrosion years miles drivet...\n",
       "3  20  aston martin  years unlimited miles basic years unlimited mi...\n",
       "4  21          nike  you can buy the gym bag traveling bag nike onl..."
      ]
     },
     "execution_count": 59,
     "metadata": {},
     "output_type": "execute_result"
    }
   ],
   "source": [
    "df3.head()"
   ]
  },
  {
   "cell_type": "code",
   "execution_count": 60,
   "id": "fb407920-ba6a-4250-a5b8-a4c0bf3d6042",
   "metadata": {},
   "outputs": [],
   "source": [
    "df3['tags'] = df3['tags'].apply(textPorterStemmer)"
   ]
  },
  {
   "cell_type": "code",
   "execution_count": 61,
   "id": "dc82e5bf-ff30-4a2b-8c41-5dbc7d801c59",
   "metadata": {},
   "outputs": [
    {
     "data": {
      "text/plain": [
       "'bicycl strong steel frame brake system strong allow maintain control situat seat adjust chang need front rear wheel fit mudguard rider get mud ride roaddurantaduranta super sport bicycl'"
      ]
     },
     "execution_count": 61,
     "metadata": {},
     "output_type": "execute_result"
    }
   ],
   "source": [
    "df3.loc[1, 'tags']"
   ]
  },
  {
   "cell_type": "markdown",
   "id": "f9b673dd-28b3-4dff-a664-8404c6769459",
   "metadata": {},
   "source": [
    "## Apply CounterVectorizer"
   ]
  },
  {
   "cell_type": "code",
   "execution_count": 62,
   "id": "a98d24ef-451f-46c7-b3ec-a068587759d3",
   "metadata": {},
   "outputs": [],
   "source": [
    "cv = CountVectorizer(max_features=1200)"
   ]
  },
  {
   "cell_type": "code",
   "execution_count": 63,
   "id": "b132ec7d-cab7-4645-b60a-c9d0f1000159",
   "metadata": {},
   "outputs": [],
   "source": [
    "cv_vectors = cv.fit_transform(raw_documents=df3['tags']).toarray()"
   ]
  },
  {
   "cell_type": "code",
   "execution_count": 64,
   "id": "30f4b836-81c2-4f7f-9ce0-d93ee9bcfd66",
   "metadata": {},
   "outputs": [
    {
     "data": {
      "text/plain": [
       "(153, 1200)"
      ]
     },
     "execution_count": 64,
     "metadata": {},
     "output_type": "execute_result"
    }
   ],
   "source": [
    "cv_vectors.shape"
   ]
  },
  {
   "cell_type": "code",
   "execution_count": 65,
   "id": "a6c35a3e-fe3f-450c-937b-6314481674ef",
   "metadata": {},
   "outputs": [
    {
     "data": {
      "text/plain": [
       "array([[0, 0, 0, ..., 0, 0, 0],\n",
       "       [0, 0, 0, ..., 0, 0, 0],\n",
       "       [0, 0, 0, ..., 0, 0, 0],\n",
       "       ...,\n",
       "       [0, 0, 0, ..., 0, 0, 0],\n",
       "       [0, 0, 0, ..., 0, 0, 0],\n",
       "       [0, 0, 0, ..., 0, 0, 0]], dtype=int64)"
      ]
     },
     "execution_count": 65,
     "metadata": {},
     "output_type": "execute_result"
    }
   ],
   "source": [
    "cv_vectors"
   ]
  },
  {
   "cell_type": "code",
   "execution_count": 66,
   "id": "c68e754a-cc73-4e61-81b5-6d4542575beb",
   "metadata": {},
   "outputs": [
    {
     "data": {
      "text/plain": [
       "array([0, 0, 0, ..., 0, 0, 0], dtype=int64)"
      ]
     },
     "execution_count": 66,
     "metadata": {},
     "output_type": "execute_result"
    }
   ],
   "source": [
    "cv_vectors[0]"
   ]
  },
  {
   "cell_type": "code",
   "execution_count": 67,
   "id": "6c69a201-b7cb-47f4-9811-c5b342269cca",
   "metadata": {},
   "outputs": [],
   "source": [
    "cv_similarity = cosine_similarity(X=cv_vectors)"
   ]
  },
  {
   "cell_type": "code",
   "execution_count": 68,
   "id": "62d0a611-16c8-4ed0-89f8-3a4d83d17b61",
   "metadata": {},
   "outputs": [
    {
     "data": {
      "text/plain": [
       "(153, 153)"
      ]
     },
     "execution_count": 68,
     "metadata": {},
     "output_type": "execute_result"
    }
   ],
   "source": [
    "cv_similarity.shape"
   ]
  },
  {
   "cell_type": "code",
   "execution_count": 69,
   "id": "80a57961-10b7-4a3b-990d-33a499cf3e31",
   "metadata": {},
   "outputs": [
    {
     "data": {
      "text/plain": [
       "array(['010', '013', '018', ..., 'youtub', 'zari', 'zigzag'], dtype=object)"
      ]
     },
     "execution_count": 69,
     "metadata": {},
     "output_type": "execute_result"
    }
   ],
   "source": [
    "cv.get_feature_names_out()"
   ]
  },
  {
   "cell_type": "code",
   "execution_count": 70,
   "id": "4a8a3d08-6c5b-4625-b101-cb52f53b2310",
   "metadata": {},
   "outputs": [
    {
     "data": {
      "text/plain": [
       "array([1.        , 0.        , 0.        , 0.        , 0.        ,\n",
       "       0.07715167, 0.        , 0.        , 0.        , 0.        ,\n",
       "       0.06131393, 0.        , 0.        , 0.        , 0.        ,\n",
       "       0.07412493, 0.14824986, 0.        , 0.09759001, 0.11952286,\n",
       "       0.        , 0.21428571, 0.        , 0.        , 0.        ,\n",
       "       0.        , 0.07142857, 0.        , 0.07412493, 0.        ,\n",
       "       0.        , 0.        , 0.        , 0.        , 0.        ,\n",
       "       0.        , 0.        , 0.        , 0.        , 0.        ,\n",
       "       0.        , 0.        , 0.        , 0.06131393, 0.        ,\n",
       "       0.        , 0.        , 0.        , 0.        , 0.        ,\n",
       "       0.        , 0.        , 0.        , 0.        , 0.        ,\n",
       "       0.        , 0.        , 0.        , 0.05976143, 0.        ,\n",
       "       0.        , 0.        , 0.        , 0.        , 0.        ,\n",
       "       0.        , 0.        , 0.        , 0.        , 0.        ,\n",
       "       0.        , 0.        , 0.        , 0.        , 0.        ,\n",
       "       0.        , 0.05832118, 0.        , 0.03671115, 0.        ,\n",
       "       0.        , 0.        , 0.        , 0.        , 0.        ,\n",
       "       0.        , 0.        , 0.        , 0.        , 0.        ,\n",
       "       0.04652421, 0.        , 0.        , 0.        , 0.        ,\n",
       "       0.        , 0.        , 0.        , 0.        , 0.        ,\n",
       "       0.        , 0.        , 0.        , 0.        , 0.        ,\n",
       "       0.        , 0.        , 0.        , 0.        , 0.        ,\n",
       "       0.        , 0.0314425 , 0.        , 0.        , 0.        ,\n",
       "       0.03898406, 0.        , 0.        , 0.        , 0.05832118,\n",
       "       0.        , 0.        , 0.        , 0.        , 0.        ,\n",
       "       0.        , 0.        , 0.        , 0.        , 0.        ,\n",
       "       0.        , 0.        , 0.        , 0.        , 0.        ,\n",
       "       0.        , 0.        , 0.        , 0.        , 0.05698029,\n",
       "       0.        , 0.        , 0.        , 0.        , 0.        ,\n",
       "       0.05698029, 0.        , 0.09166985, 0.        , 0.        ,\n",
       "       0.        , 0.        , 0.07715167])"
      ]
     },
     "execution_count": 70,
     "metadata": {},
     "output_type": "execute_result"
    }
   ],
   "source": [
    "cv_similarity[0]"
   ]
  },
  {
   "cell_type": "markdown",
   "id": "ca8f9fc2-1ed2-48a3-94a9-9a772728cf9c",
   "metadata": {},
   "source": [
    "### Recommendar Function for PorterStemmer"
   ]
  },
  {
   "cell_type": "code",
   "execution_count": 76,
   "id": "dad52859-8c99-41c9-9f37-45843d5f96a7",
   "metadata": {},
   "outputs": [],
   "source": [
    "def productRecommender2(productName):\n",
    "    productName = productName.lower()\n",
    "    product_index = df3[df3['name'] == productName].index[0]\n",
    "    distances = sorted(list(enumerate(cv_similarity[product_index])), reverse=True, key=lambda x : x[1])\n",
    "    for i in distances[1:16]:\n",
    "        productID, productName = df3.loc[i[0], ['id','name']]\n",
    "        print(f\"Product ID:[{productID}] | Product Name: {productName}\")\n",
    "        # print(df3.loc[i[0], 'name')"
   ]
  },
  {
   "cell_type": "code",
   "execution_count": 72,
   "id": "c1509742-f302-4fdd-8fc3-5eac531d05ce",
   "metadata": {},
   "outputs": [
    {
     "name": "stdout",
     "output_type": "stream",
     "text": [
      "Product ID:[22] | Product Name: ladies backpack\n",
      "Product ID:[164] | Product Name: laptop pouch bag\n",
      "Product ID:[23] | Product Name: ladies backpack\n",
      "Product ID:[100] | Product Name: baby gym rack and game pad combo\n",
      "Product ID:[67] | Product Name: lg 32lk510b 32\" hd led television\n",
      "Product ID:[130] | Product Name: multi-function business travel wallet\n",
      "Product ID:[97] | Product Name: led light\n",
      "Product ID:[2] | Product Name: duranta\n",
      "Product ID:[1] | Product Name: huawei\n",
      "Product ID:[19] | Product Name: cadillac\n",
      "Product ID:[20] | Product Name: aston martin\n",
      "Product ID:[24] | Product Name: lakmé\n",
      "Product ID:[25] | Product Name: lakmé 9 to 5\n",
      "Product ID:[26] | Product Name: hijab\n",
      "Product ID:[27] | Product Name: forever bicycle\n"
     ]
    }
   ],
   "source": [
    "productRecommender2('nike')"
   ]
  },
  {
   "cell_type": "code",
   "execution_count": 77,
   "id": "15f2124f-ce0a-4a12-bbe3-81b160a59350",
   "metadata": {},
   "outputs": [
    {
     "name": "stdout",
     "output_type": "stream",
     "text": [
      "Product ID:[177] | Product Name: hatil swivel chair\n",
      "Product ID:[176] | Product Name: all swivel chair\n",
      "Product ID:[71] | Product Name: gfc glamour ceiling fan\n",
      "Product ID:[81] | Product Name: sennheiser ew135p-g4 wireless microphone\n",
      "Product ID:[82] | Product Name: melody 3.5 octave stick harmoniam\n",
      "Product ID:[136] | Product Name: silk readymade lehenga\n",
      "Product ID:[164] | Product Name: laptop pouch bag\n",
      "Product ID:[161] | Product Name: blender vis-sbl-018 rapid power\n",
      "Product ID:[186] | Product Name: apple magic mouse\n",
      "Product ID:[179] | Product Name: cpu liquid cooler\n",
      "Product ID:[138] | Product Name: maithili silk saree\n",
      "Product ID:[95] | Product Name: spot light\n",
      "Product ID:[94] | Product Name: wled-rb3wb22 light\n",
      "Product ID:[72] | Product Name: gfc monet ceiling fan\n",
      "Product ID:[168] | Product Name: dual band gigabit 7 antennas router\n"
     ]
    }
   ],
   "source": [
    "productRecommender2(\"Swivel Chair\")"
   ]
  },
  {
   "cell_type": "code",
   "execution_count": null,
   "id": "80d8817c-7225-48d5-8c66-e72e676d5416",
   "metadata": {},
   "outputs": [],
   "source": []
  }
 ],
 "metadata": {
  "kernelspec": {
   "display_name": "Python 3 (ipykernel)",
   "language": "python",
   "name": "python3"
  },
  "language_info": {
   "codemirror_mode": {
    "name": "ipython",
    "version": 3
   },
   "file_extension": ".py",
   "mimetype": "text/x-python",
   "name": "python",
   "nbconvert_exporter": "python",
   "pygments_lexer": "ipython3",
   "version": "3.10.4"
  }
 },
 "nbformat": 4,
 "nbformat_minor": 5
}
